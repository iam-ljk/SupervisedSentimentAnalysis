{
 "cells": [
  {
   "cell_type": "code",
   "execution_count": 48,
   "metadata": {},
   "outputs": [],
   "source": [
    "import torch\n",
    "import torch.nn as nn\n",
    "import torch.optim as optim\n",
    "from torch.utils.data import DataLoader, TensorDataset\n",
    "import numpy as np\n",
    "import gensim.downloader as api\n",
    "import pandas as pd\n",
    "from torch import flatten\n",
    "from sklearn.metrics import accuracy_score, f1_score"
   ]
  },
  {
   "cell_type": "code",
   "execution_count": 49,
   "metadata": {},
   "outputs": [],
   "source": [
    "train_data_0_path = \"/home3/luharj/DLNLP/Assignment1/data/train/ClassificationDataset-train0.xlsx\"\n",
    "valid_data_0_path = \"/home3/luharj/DLNLP/Assignment1/data/valid/ClassificationDataset-valid0.xlsx\""
   ]
  },
  {
   "cell_type": "code",
   "execution_count": 50,
   "metadata": {},
   "outputs": [],
   "source": [
    "glove_model = api.load(\"glove-wiki-gigaword-300\")"
   ]
  },
  {
   "cell_type": "code",
   "execution_count": 51,
   "metadata": {},
   "outputs": [],
   "source": [
    "train_df_0 = pd.read_excel(train_data_0_path)\n",
    "valid_df_0 = pd.read_excel(valid_data_0_path)"
   ]
  },
  {
   "cell_type": "code",
   "execution_count": 78,
   "metadata": {},
   "outputs": [],
   "source": [
    "class LinearLayers(nn.Module) :\n",
    "    def __init__(self) :\n",
    "        super(LinearLayers, self).__init__()\n",
    "        self.fc1 = nn.Linear(in_features=300, out_features=256)\n",
    "        self.fc2 = nn.Linear(in_features=256, out_features=128)\n",
    "        self.fc3 = nn.Linear(in_features=128, out_features=64)\n",
    "        self.fc4 = nn.Linear(in_features=64, out_features=16)\n",
    "        self.fc5 = nn.Linear(in_features=16, out_features=3)\n",
    "        self.softmax = nn.Softmax(dim = 1)\n",
    "        self.relu = nn.ReLU()\n",
    "    def forward(self, x) :\n",
    "        x = x.squeeze()\n",
    "        x = self.relu(self.fc1(x))\n",
    "        x = self.relu(self.fc2(x))\n",
    "        x = self.relu(self.fc3(x))\n",
    "        x = self.relu(self.fc4(x))\n",
    "        x = self.softmax(self.fc5(x))\n",
    "        return x"
   ]
  },
  {
   "cell_type": "code",
   "execution_count": 66,
   "metadata": {},
   "outputs": [],
   "source": [
    "def get_labels(word) :\n",
    "    if word == \"negative\" :\n",
    "        return 0\n",
    "    if word == \"neutral\" :\n",
    "        return 1\n",
    "    else:\n",
    "        return 2"
   ]
  },
  {
   "cell_type": "code",
   "execution_count": 67,
   "metadata": {},
   "outputs": [],
   "source": [
    "def get_embedding(sentences) :\n",
    "    words = sentences.split(\" \")\n",
    "    embeddings = np.zeros(300)\n",
    "    for word in words:\n",
    "        if word in glove_model:\n",
    "            embeddings+=glove_model[word]\n",
    "        else :\n",
    "            embeddings+=np.random.uniform(-1,1,300)\n",
    "    # print(embeddings)\n",
    "    return np.array(embeddings)"
   ]
  },
  {
   "cell_type": "code",
   "execution_count": 68,
   "metadata": {},
   "outputs": [],
   "source": [
    "def get_data(data_frame) :\n",
    "    training_data = []\n",
    "    training_labels = []\n",
    "    for index, row in data_frame.iterrows() :\n",
    "        data = get_embedding(row[1])\n",
    "        labels = get_labels(row[0])\n",
    "        training_data.append(data)\n",
    "        training_labels.append(labels)\n",
    "    return np.array(training_data), np.array(training_labels)"
   ]
  },
  {
   "cell_type": "code",
   "execution_count": 69,
   "metadata": {},
   "outputs": [],
   "source": [
    "training_data, training_labels = get_data(data_frame=train_df_0)\n",
    "validation_data, validation_labels = get_data(data_frame=valid_df_0)"
   ]
  },
  {
   "cell_type": "code",
   "execution_count": 70,
   "metadata": {},
   "outputs": [],
   "source": [
    "X = torch.Tensor(training_data)\n",
    "y = torch.LongTensor(training_labels)"
   ]
  },
  {
   "cell_type": "code",
   "execution_count": 71,
   "metadata": {},
   "outputs": [],
   "source": [
    "X_train = X\n",
    "y_train = y\n",
    "X_val = torch.Tensor(validation_data)\n",
    "y_val = torch.LongTensor(validation_labels)"
   ]
  },
  {
   "cell_type": "code",
   "execution_count": 72,
   "metadata": {},
   "outputs": [],
   "source": [
    "X_train = X_train.unsqueeze(1)\n",
    "X_val = X_val.unsqueeze(1)"
   ]
  },
  {
   "cell_type": "code",
   "execution_count": 73,
   "metadata": {},
   "outputs": [
    {
     "name": "stdout",
     "output_type": "stream",
     "text": [
      "torch.Size([2798, 1, 300]) torch.Size([1203, 1, 300])\n"
     ]
    }
   ],
   "source": [
    "print(X_train.shape, X_val.shape)"
   ]
  },
  {
   "cell_type": "code",
   "execution_count": 74,
   "metadata": {},
   "outputs": [],
   "source": [
    "batch_size = 64\n",
    "train_dataset = TensorDataset(X_train, y_train)\n",
    "train_loader = DataLoader(train_dataset, batch_size=batch_size, shuffle=True)\n",
    "val_dataset = TensorDataset(X_val, y_val)\n",
    "val_loader = DataLoader(val_dataset, batch_size=batch_size)"
   ]
  },
  {
   "cell_type": "code",
   "execution_count": 80,
   "metadata": {},
   "outputs": [],
   "source": [
    "model = LinearLayers()\n",
    "criterion = nn.CrossEntropyLoss()\n",
    "optimizer = optim.Adam(model.parameters(), lr=0.001)"
   ]
  },
  {
   "cell_type": "code",
   "execution_count": 81,
   "metadata": {},
   "outputs": [
    {
     "data": {
      "text/plain": [
       "LinearLayers(\n",
       "  (fc1): Linear(in_features=300, out_features=256, bias=True)\n",
       "  (fc2): Linear(in_features=256, out_features=128, bias=True)\n",
       "  (fc3): Linear(in_features=128, out_features=64, bias=True)\n",
       "  (fc4): Linear(in_features=64, out_features=16, bias=True)\n",
       "  (fc5): Linear(in_features=16, out_features=3, bias=True)\n",
       "  (softmax): Softmax(dim=1)\n",
       "  (relu): ReLU()\n",
       ")"
      ]
     },
     "execution_count": 81,
     "metadata": {},
     "output_type": "execute_result"
    }
   ],
   "source": [
    "epochs = 20  # You can adjust the number of epochs\n",
    "device = torch.device(\"cuda\" if torch.cuda.is_available() else \"cpu\")\n",
    "model.to(device)"
   ]
  },
  {
   "cell_type": "code",
   "execution_count": 82,
   "metadata": {},
   "outputs": [
    {
     "name": "stdout",
     "output_type": "stream",
     "text": [
      "Epoch 1/20, Train Loss: 0.8968700820749457, Accuracy: 0.6644031451036455, Macro F1: 0.3280185527608208, Micro F1: 0.6644031451036455, Validation Loss: 0.8400415684047499, Val Accuracy: 0.7073981712385703, Val Macro F1: 0.405248522766771, Val Micro F1: 0.7073981712385703\n",
      "Epoch 2/20, Train Loss: 0.8465028608387167, Accuracy: 0.6994281629735526, Macro F1: 0.4128693137202201, Micro F1: 0.6994281629735526, Validation Loss: 0.8250957915657445, Val Accuracy: 0.7281795511221946, Val Macro F1: 0.42979976177582446, Val Micro F1: 0.7281795511221947\n",
      "Epoch 3/20, Train Loss: 0.8149476389993321, Accuracy: 0.7312365975696926, Macro F1: 0.44869830873173494, Micro F1: 0.7312365975696926, Validation Loss: 0.8108063277445341, Val Accuracy: 0.7381546134663342, Val Macro F1: 0.44630743442328996, Val Micro F1: 0.7381546134663342\n",
      "Epoch 4/20, Train Loss: 0.7923700199885801, Accuracy: 0.7551822730521801, Macro F1: 0.4758839510540886, Micro F1: 0.7551822730521801, Validation Loss: 0.8128797160951715, Val Accuracy: 0.7339983374896093, Val Macro F1: 0.44194729264835825, Val Micro F1: 0.7339983374896093\n",
      "Epoch 5/20, Train Loss: 0.7844420942393217, Accuracy: 0.7637598284488921, Macro F1: 0.4889473261986825, Micro F1: 0.7637598284488921, Validation Loss: 0.8355583391691509, Val Accuracy: 0.714879467996675, Val Macro F1: 0.3989204590196794, Val Micro F1: 0.714879467996675\n",
      "Epoch 6/20, Train Loss: 0.8029480319131505, Accuracy: 0.7466047176554682, Macro F1: 0.45817485199452185, Micro F1: 0.7466047176554682, Validation Loss: 0.7936377023395739, Val Accuracy: 0.7522859517871987, Val Macro F1: 0.4720101317140619, Val Micro F1: 0.7522859517871987\n",
      "Epoch 7/20, Train Loss: 0.7815119637684389, Accuracy: 0.7676912080057183, Macro F1: 0.49164232982836437, Micro F1: 0.7676912080057183, Validation Loss: 0.7924680772580599, Val Accuracy: 0.7581047381546134, Val Macro F1: 0.4750934686660638, Val Micro F1: 0.7581047381546133\n",
      "Epoch 8/20, Train Loss: 0.7548388581384312, Accuracy: 0.7927090779127949, Macro F1: 0.5108030958252019, Micro F1: 0.7927090779127949, Validation Loss: 0.7992470985964725, Val Accuracy: 0.743142144638404, Val Macro F1: 0.4530819507290096, Val Micro F1: 0.743142144638404\n",
      "Epoch 9/20, Train Loss: 0.7414985583587126, Accuracy: 0.8102215868477484, Macro F1: 0.5241843344497564, Micro F1: 0.8102215868477485, Validation Loss: 0.7951779177314356, Val Accuracy: 0.7497921862011637, Val Macro F1: 0.48323691800576835, Val Micro F1: 0.7497921862011638\n",
      "Epoch 10/20, Train Loss: 0.7434489334171469, Accuracy: 0.806290207290922, Macro F1: 0.5221828084426732, Micro F1: 0.806290207290922, Validation Loss: 0.7929812356045371, Val Accuracy: 0.7556109725685786, Val Macro F1: 0.47189042165045025, Val Micro F1: 0.7556109725685786\n",
      "Epoch 11/20, Train Loss: 0.7550677941604094, Accuracy: 0.7930664760543246, Macro F1: 0.5143942071224239, Micro F1: 0.7930664760543246, Validation Loss: 0.791041308327725, Val Accuracy: 0.7564422277639236, Val Macro F1: 0.48512372517512464, Val Micro F1: 0.7564422277639236\n",
      "Epoch 12/20, Train Loss: 0.736642448739572, Accuracy: 0.8123659756969264, Macro F1: 0.5287478765959778, Micro F1: 0.8123659756969264, Validation Loss: 0.7821776647316782, Val Accuracy: 0.7655860349127181, Val Macro F1: 0.48250661135566625, Val Micro F1: 0.7655860349127183\n",
      "Epoch 13/20, Train Loss: 0.7235437753525648, Accuracy: 0.8280914939242316, Macro F1: 0.5408424540431774, Micro F1: 0.8280914939242318, Validation Loss: 0.7825867627796373, Val Accuracy: 0.7630922693266833, Val Macro F1: 0.48284916858094956, Val Micro F1: 0.7630922693266833\n",
      "Epoch 14/20, Train Loss: 0.7217986610802737, Accuracy: 0.8291636883488206, Macro F1: 0.5404281472274014, Micro F1: 0.8291636883488206, Validation Loss: 0.7955703358901175, Val Accuracy: 0.7539484621778886, Val Macro F1: 0.49116506706500856, Val Micro F1: 0.7539484621778886\n",
      "Epoch 15/20, Train Loss: 0.7323258519172668, Accuracy: 0.815939957112223, Macro F1: 0.5325713633190334, Micro F1: 0.8159399571122231, Validation Loss: 0.8002274130520067, Val Accuracy: 0.743142144638404, Val Macro F1: 0.48565527196902275, Val Micro F1: 0.743142144638404\n",
      "Epoch 16/20, Train Loss: 0.7163791656494141, Accuracy: 0.8330950679056469, Macro F1: 0.5449640304813045, Micro F1: 0.8330950679056469, Validation Loss: 0.7934319094607705, Val Accuracy: 0.7547797173732336, Val Macro F1: 0.46125590233424213, Val Micro F1: 0.7547797173732336\n",
      "Epoch 17/20, Train Loss: 0.7102233306928114, Accuracy: 0.8402430307362402, Macro F1: 0.5504360889766851, Micro F1: 0.8402430307362402, Validation Loss: 0.7882253590383028, Val Accuracy: 0.7572734829592684, Val Macro F1: 0.47524082417198815, Val Micro F1: 0.7572734829592683\n",
      "Epoch 18/20, Train Loss: 0.7047003941102461, Accuracy: 0.8448892065761258, Macro F1: 0.5552717642805723, Micro F1: 0.8448892065761258, Validation Loss: 0.7899635967455412, Val Accuracy: 0.7581047381546134, Val Macro F1: 0.49551020408163265, Val Micro F1: 0.7581047381546133\n",
      "Epoch 19/20, Train Loss: 0.6983519846742804, Accuracy: 0.8513223731236598, Macro F1: 0.5603894101581428, Micro F1: 0.8513223731236598, Validation Loss: 0.811107193168841, Val Accuracy: 0.7381546134663342, Val Macro F1: 0.4663456895719233, Val Micro F1: 0.7381546134663342\n",
      "Epoch 20/20, Train Loss: 0.7062689201398329, Accuracy: 0.8423874195854182, Macro F1: 0.5527398310943564, Micro F1: 0.8423874195854182, Validation Loss: 0.7831787686598929, Val Accuracy: 0.7639235245220283, Val Macro F1: 0.4945331685208076, Val Micro F1: 0.7639235245220283\n"
     ]
    }
   ],
   "source": [
    "# Training and validation loop\n",
    "for epoch in range(epochs):\n",
    "    model.train()\n",
    "    running_loss = 0.0\n",
    "    true_labels = []\n",
    "    predicted_labels = []\n",
    "\n",
    "    for inputs, labels in train_loader:\n",
    "        inputs, labels = inputs.to(device), labels.to(device)\n",
    "\n",
    "        optimizer.zero_grad()\n",
    "\n",
    "        outputs = model(inputs)\n",
    "        loss = criterion(outputs, labels)\n",
    "        loss.backward()\n",
    "        optimizer.step()\n",
    "\n",
    "        output_labels = torch.argmax(outputs, dim=1)\n",
    "\n",
    "        # Append true and predicted labels\n",
    "        true_labels.extend(labels.cpu().numpy())\n",
    "        predicted_labels.extend(output_labels.cpu().numpy())\n",
    "\n",
    "        running_loss += loss.item()\n",
    "\n",
    "    # Calculate accuracy, macro F1, and micro F1 on the training set\n",
    "    accuracy = accuracy_score(true_labels, predicted_labels)\n",
    "    macro_f1 = f1_score(true_labels, predicted_labels, average='macro')\n",
    "    micro_f1 = f1_score(true_labels, predicted_labels, average='micro')\n",
    "\n",
    "    # Initialize variables for validation\n",
    "    val_true_labels = []\n",
    "    val_predicted_labels = []\n",
    "    val_running_loss = 0.0\n",
    "\n",
    "    model.eval()  # Switch to evaluation mode for validation\n",
    "    with torch.no_grad():\n",
    "        for val_inputs, val_labels in val_loader:\n",
    "            val_inputs, val_labels = val_inputs.to(device), val_labels.to(device)\n",
    "\n",
    "            val_outputs = model(val_inputs)\n",
    "            val_loss = criterion(val_outputs, val_labels)\n",
    "\n",
    "            val_output_labels = torch.argmax(val_outputs, dim=1)\n",
    "\n",
    "            # Append true and predicted labels for validation\n",
    "            val_true_labels.extend(val_labels.cpu().numpy())\n",
    "            val_predicted_labels.extend(val_output_labels.cpu().numpy())\n",
    "\n",
    "            val_running_loss += val_loss.item()\n",
    "\n",
    "    # Calculate accuracy, macro F1, and micro F1 on the validation set\n",
    "    val_accuracy = accuracy_score(val_true_labels, val_predicted_labels)\n",
    "    val_macro_f1 = f1_score(val_true_labels, val_predicted_labels, average='macro')\n",
    "    val_micro_f1 = f1_score(val_true_labels, val_predicted_labels, average='micro')\n",
    "\n",
    "    print(f\"Epoch {epoch + 1}/{epochs}, Train Loss: {running_loss / len(train_loader)}, Accuracy: {accuracy}, Macro F1: {macro_f1}, Micro F1: {micro_f1}, Validation Loss: {val_running_loss / len(val_loader)}, Val Accuracy: {val_accuracy}, Val Macro F1: {val_macro_f1}, Val Micro F1: {val_micro_f1}\")"
   ]
  },
  {
   "cell_type": "code",
   "execution_count": 83,
   "metadata": {},
   "outputs": [
    {
     "name": "stdout",
     "output_type": "stream",
     "text": [
      "Epoch 1/20, Loss: 0.6909252865747972, Accuracy: 0.859542530378842, Macro F1: 0.5663971699163878, Micro F1: 0.859542530378842\n",
      "Epoch 2/20, Loss: 0.7038447044112466, Accuracy: 0.8470335954253038, Macro F1: 0.5560958575786724, Micro F1: 0.8470335954253039\n",
      "Epoch 3/20, Loss: 0.7163717191327702, Accuracy: 0.8327376697641172, Macro F1: 0.5455681496115501, Micro F1: 0.8327376697641172\n",
      "Epoch 4/20, Loss: 0.6934417147528041, Accuracy: 0.8573981415296641, Macro F1: 0.565673359069809, Micro F1: 0.8573981415296642\n",
      "Epoch 5/20, Loss: 0.6861702881076119, Accuracy: 0.8652609006433166, Macro F1: 0.5719845836301533, Micro F1: 0.8652609006433166\n",
      "Epoch 6/20, Loss: 0.6839803944934498, Accuracy: 0.868120085775554, Macro F1: 0.5743842163459191, Micro F1: 0.868120085775554\n",
      "Epoch 7/20, Loss: 0.6882735179229216, Accuracy: 0.8631165117941386, Macro F1: 0.5702971837950866, Micro F1: 0.8631165117941386\n",
      "Epoch 8/20, Loss: 0.6782289648597891, Accuracy: 0.8724088634739099, Macro F1: 0.5781680712552494, Micro F1: 0.8724088634739099\n",
      "Epoch 9/20, Loss: 0.6778260198506442, Accuracy: 0.8731236597569693, Macro F1: 0.5783479833518926, Micro F1: 0.8731236597569693\n",
      "Epoch 10/20, Loss: 0.6804880946874619, Accuracy: 0.870264474624732, Macro F1: 0.5763892960099244, Micro F1: 0.870264474624732\n",
      "Epoch 11/20, Loss: 0.6743024506352164, Accuracy: 0.8759828448892065, Macro F1: 0.5813920072404156, Micro F1: 0.8759828448892065\n",
      "Epoch 12/20, Loss: 0.6714406785639849, Accuracy: 0.8802716225875625, Macro F1: 0.5845226471538146, Micro F1: 0.8802716225875625\n",
      "Epoch 13/20, Loss: 0.6791418519887057, Accuracy: 0.8724088634739099, Macro F1: 0.5781417474909214, Micro F1: 0.8724088634739099\n",
      "Epoch 14/20, Loss: 0.6737200753255324, Accuracy: 0.8777698355968548, Macro F1: 0.5822916841788256, Micro F1: 0.8777698355968548\n",
      "Epoch 15/20, Loss: 0.6665385839614001, Accuracy: 0.8849177984274482, Macro F1: 0.5881965880681391, Micro F1: 0.8849177984274482\n",
      "Epoch 16/20, Loss: 0.6794365644454956, Accuracy: 0.8720514653323803, Macro F1: 0.5779419233508113, Micro F1: 0.8720514653323803\n",
      "Epoch 17/20, Loss: 0.6734839393333956, Accuracy: 0.8781272337383845, Macro F1: 0.5829828454279412, Micro F1: 0.8781272337383845\n",
      "Epoch 18/20, Loss: 0.6769147650762037, Accuracy: 0.8738384560400286, Macro F1: 0.5793429306259522, Micro F1: 0.8738384560400286\n",
      "Epoch 19/20, Loss: 0.6713888103311713, Accuracy: 0.8799142244460328, Macro F1: 0.5841893731638842, Micro F1: 0.8799142244460328\n",
      "Epoch 20/20, Loss: 0.6973625651814721, Accuracy: 0.8545389563974267, Macro F1: 0.5634963742907303, Micro F1: 0.8545389563974267\n"
     ]
    }
   ],
   "source": [
    "for epoch in range(epochs):\n",
    "    model.train()\n",
    "    running_loss = 0.0\n",
    "    true_labels = []\n",
    "    predicted_labels = []\n",
    "    for inputs, labels in train_loader:\n",
    "        inputs, labels = inputs.to(device), labels.to(device)\n",
    "\n",
    "        optimizer.zero_grad()\n",
    "\n",
    "        outputs = model(inputs)\n",
    "        loss = criterion(outputs, labels)\n",
    "        loss.backward()\n",
    "        optimizer.step()\n",
    "        \n",
    "        output_labels = torch.argmax(outputs, dim=1)\n",
    "        \n",
    "        # Append true and predicted labels\n",
    "        true_labels.extend(labels.cpu().numpy())\n",
    "        predicted_labels.extend(output_labels.cpu().numpy())\n",
    "\n",
    "        running_loss += loss.item()\n",
    "\n",
    "    accuracy = accuracy_score(true_labels, predicted_labels)\n",
    "    \n",
    "    # Calculate macro and micro F1 scores for the epoch\n",
    "    macro_f1 = f1_score(true_labels, predicted_labels, average='macro')\n",
    "    micro_f1 = f1_score(true_labels, predicted_labels, average='micro')\n",
    "    \n",
    "    print(f\"Epoch {epoch + 1}/{epochs}, Loss: {running_loss / len(train_loader)}, Accuracy: {accuracy}, Macro F1: {macro_f1}, Micro F1: {micro_f1}\")"
   ]
  },
  {
   "cell_type": "code",
   "execution_count": null,
   "metadata": {},
   "outputs": [],
   "source": []
  }
 ],
 "metadata": {
  "kernelspec": {
   "display_name": "Python 3",
   "language": "python",
   "name": "python3"
  },
  "language_info": {
   "codemirror_mode": {
    "name": "ipython",
    "version": 3
   },
   "file_extension": ".py",
   "mimetype": "text/x-python",
   "name": "python",
   "nbconvert_exporter": "python",
   "pygments_lexer": "ipython3",
   "version": "3.10.6"
  },
  "orig_nbformat": 4
 },
 "nbformat": 4,
 "nbformat_minor": 2
}
